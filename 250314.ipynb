{
  "nbformat": 4,
  "nbformat_minor": 0,
  "metadata": {
    "colab": {
      "provenance": []
    },
    "kernelspec": {
      "name": "python3",
      "display_name": "Python 3"
    },
    "language_info": {
      "name": "python"
    }
  },
  "cells": [
    {
      "cell_type": "code",
      "execution_count": 24,
      "metadata": {
        "colab": {
          "base_uri": "https://localhost:8080/"
        },
        "id": "KquTlmyHdtqk",
        "outputId": "34cbbb49-3543-4d3c-fd61-01d2f38abb49"
      },
      "outputs": [
        {
          "output_type": "stream",
          "name": "stdout",
          "text": [
            "반지름이 5인 원의 면적은 78.5398입니다\n"
          ]
        }
      ],
      "source": [
        " #문제기술 1\n",
        " #반지름이 5인 원의 면적을 구하시오 (파이값은 3.141592)\n",
        " #출력예시: 반지름이 5인 원의 면적은 78.5398\n",
        "\n",
        "radius = 5\n",
        "result = radius ** 2 * 3.141592\n",
        "\n",
        "print(f\"반지름이 {radius}인 원의 면적은 {result}입니다\")"
      ]
    },
    {
      "cell_type": "code",
      "source": [
        "#문제기술 2\n",
        "#분을 시간과 분으로 변환하여 출력하시오\n",
        "#출력예시: 100분은 1시간 40분 입니다\n",
        "\n",
        "total_minutes=100\n",
        "\n",
        "value = total_minutes // 60\n",
        "result = total_minutes % 60\n",
        "\n",
        "print(f\"{total_minutes}분은 {value}시간 {result}분 입니다\")"
      ],
      "metadata": {
        "colab": {
          "base_uri": "https://localhost:8080/"
        },
        "id": "14_cZorxeQww",
        "outputId": "424fe53b-b482-4b46-b989-5ec9be50777d"
      },
      "execution_count": 27,
      "outputs": [
        {
          "output_type": "stream",
          "name": "stdout",
          "text": [
            "100분은 1시간 40분 입니다\n"
          ]
        }
      ]
    }
  ]
}