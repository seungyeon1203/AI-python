{
 "cells": [
  {
   "cell_type": "code",
   "execution_count": 2,
   "id": "4fbf2bc4-92bd-4f44-8ca3-f65c02d670c7",
   "metadata": {},
   "outputs": [
    {
     "name": "stdin",
     "output_type": "stream",
     "text": [
      "나이를 입력하세요: 12\n"
     ]
    },
    {
     "name": "stdout",
     "output_type": "stream",
     "text": [
      "당신은 내년에 13 살입니다.\n"
     ]
    }
   ],
   "source": [
    "age=input(\"나이를 입력하세요:\")\n",
    "age=int(age)\n",
    "print(\"당신은 내년에\",age+1,\"살입니다.\")"
   ]
  },
  {
   "cell_type": "code",
   "execution_count": 4,
   "id": "803f247a-7b60-46d2-905e-4c7312fcac5f",
   "metadata": {},
   "outputs": [
    {
     "name": "stdin",
     "output_type": "stream",
     "text": [
      "나이를 입력하세요: 22\n"
     ]
    },
    {
     "name": "stdout",
     "output_type": "stream",
     "text": [
      "당신은 내년에 23 살입니다.\n"
     ]
    }
   ],
   "source": [
    "age=input(\"나이를 입력하세요:\")\n",
    "age=int(age)\n",
    "age=age+1\n",
    "print(\"당신은 내년에\",age,\"살입니다.\")\n",
    "#구성으로만 보면 출력에다가 연산을 쓰진 않기 때문에 두번째 방식이 조금 더 표준적임"
   ]
  },
  {
   "cell_type": "code",
   "execution_count": 5,
   "id": "c6e7478a-e36d-427a-90f3-9fcfb86b36cb",
   "metadata": {},
   "outputs": [
    {
     "name": "stdin",
     "output_type": "stream",
     "text": [
      "나이를 입력하세요: 11\n"
     ]
    },
    {
     "ename": "TypeError",
     "evalue": "can only concatenate str (not \"int\") to str",
     "output_type": "error",
     "traceback": [
      "\u001b[0;31m---------------------------------------------------------------------------\u001b[0m",
      "\u001b[0;31mTypeError\u001b[0m                                 Traceback (most recent call last)",
      "Cell \u001b[0;32mIn[5], line 3\u001b[0m\n\u001b[1;32m      1\u001b[0m age\u001b[38;5;241m=\u001b[39m\u001b[38;5;28minput\u001b[39m(\u001b[38;5;124m\"\u001b[39m\u001b[38;5;124m나이를 입력하세요:\u001b[39m\u001b[38;5;124m\"\u001b[39m)\n\u001b[1;32m      2\u001b[0m \u001b[38;5;66;03m#age=int(age)\u001b[39;00m\n\u001b[0;32m----> 3\u001b[0m \u001b[38;5;28mprint\u001b[39m(\u001b[38;5;124m\"\u001b[39m\u001b[38;5;124m당신은 내년에\u001b[39m\u001b[38;5;124m\"\u001b[39m,\u001b[43mage\u001b[49m\u001b[38;5;241;43m+\u001b[39;49m\u001b[38;5;241;43m1\u001b[39;49m,\u001b[38;5;124m\"\u001b[39m\u001b[38;5;124m살입니다.\u001b[39m\u001b[38;5;124m\"\u001b[39m)\n",
      "\u001b[0;31mTypeError\u001b[0m: can only concatenate str (not \"int\") to str"
     ]
    }
   ],
   "source": [
    "age=input(\"나이를 입력하세요:\")\n",
    "#age=int(age)\n",
    "print(\"당신은 내년에\",age+1,\"살입니다.\")\n",
    "#오류가 난 이유=자료형에서 문제가 생김. 숫자연산을 하고 싶은데 문자+숫자 연산을 했기 때문에 type error가 남. age+1은 문자(age)와 숫자(1)로 이루어져 있어서 age를 int형으로 바꿔줘야 함"
   ]
  },
  {
   "cell_type": "code",
   "execution_count": 8,
   "id": "d3be7cfa-40cf-4ad9-911a-46b8f3a53f47",
   "metadata": {},
   "outputs": [
    {
     "name": "stdin",
     "output_type": "stream",
     "text": [
      "나이를 입력하세요: 50\n"
     ]
    },
    {
     "name": "stdout",
     "output_type": "stream",
     "text": [
      "당신은 내년에 51 살입니다.\n"
     ]
    }
   ],
   "source": [
    "age=int(input(\"나이를 입력하세요:\"))\n",
    "print(\"당신은 내년에\",age+1,\"살입니다.\")\n",
    "#아예 처음부터 int적용"
   ]
  },
  {
   "cell_type": "code",
   "execution_count": 9,
   "id": "ddd9f4de-cdfb-4a40-af80-f5aad386ed85",
   "metadata": {},
   "outputs": [
    {
     "name": "stdin",
     "output_type": "stream",
     "text": [
      "나이를 입력하세요: 44\n"
     ]
    },
    {
     "name": "stdout",
     "output_type": "stream",
     "text": [
      "당신은 내년에 45.0 살입니다.\n"
     ]
    }
   ],
   "source": [
    "age=float(input(\"나이를 입력하세요:\"))\n",
    "print(\"당신은 내년에\",age+1,\"살입니다.\")\n",
    "#float를 적용하면 실수로 출력"
   ]
  },
  {
   "cell_type": "code",
   "execution_count": 13,
   "id": "d3ebf89e-bf97-4ea1-9d8f-c6baf82d2e6d",
   "metadata": {},
   "outputs": [
    {
     "name": "stdin",
     "output_type": "stream",
     "text": [
      "나이를 입력하세요: 22\n"
     ]
    },
    {
     "ename": "TypeError",
     "evalue": "unsupported operand type(s) for +: 'int' and 'str'",
     "output_type": "error",
     "traceback": [
      "\u001b[0;31m---------------------------------------------------------------------------\u001b[0m",
      "\u001b[0;31mTypeError\u001b[0m                                 Traceback (most recent call last)",
      "Cell \u001b[0;32mIn[13], line 2\u001b[0m\n\u001b[1;32m      1\u001b[0m age\u001b[38;5;241m=\u001b[39m\u001b[38;5;28mint\u001b[39m(\u001b[38;5;28minput\u001b[39m(\u001b[38;5;124m\"\u001b[39m\u001b[38;5;124m나이를 입력하세요:\u001b[39m\u001b[38;5;124m\"\u001b[39m))\n\u001b[0;32m----> 2\u001b[0m \u001b[38;5;28mprint\u001b[39m(\u001b[43mage\u001b[49m\u001b[38;5;241;43m+\u001b[39;49m\u001b[38;5;124;43m\"\u001b[39;49m\u001b[38;5;124;43m살입니다.\u001b[39;49m\u001b[38;5;124;43m\"\u001b[39;49m)\n",
      "\u001b[0;31mTypeError\u001b[0m: unsupported operand type(s) for +: 'int' and 'str'"
     ]
    }
   ],
   "source": [
    "age=int(input(\"나이를 입력하세요:\"))\n",
    "print(age+\"살입니다.\")\n",
    "#+를 연결이 아닌 연산으로 인식햇기 때문에 에러가 남. 그러나 ,는 연결로 인식."
   ]
  },
  {
   "cell_type": "code",
   "execution_count": 14,
   "id": "1b6ad0ab-7a19-499a-93e5-db0b46e2d505",
   "metadata": {},
   "outputs": [
    {
     "name": "stdin",
     "output_type": "stream",
     "text": [
      "나이를 입력하세요: 21\n"
     ]
    },
    {
     "name": "stdout",
     "output_type": "stream",
     "text": [
      "21살입니다.\n"
     ]
    }
   ],
   "source": [
    "age=int(input(\"나이를 입력하세요:\"))\n",
    "print(str(age)+\"살입니다.\")\n",
    "#age를 str을 통해 문자로 처리"
   ]
  },
  {
   "cell_type": "code",
   "execution_count": 20,
   "id": "5e2610db-ecc2-45f6-b35f-1b004b6f495d",
   "metadata": {},
   "outputs": [
    {
     "name": "stdout",
     "output_type": "stream",
     "text": [
      "정말 잘했어요!\n"
     ]
    }
   ],
   "source": [
    "score = 99\n",
    "if score >= 90:\n",
    "    print(\"정말 잘했어요!\")\n",
    "elif score >=60:\n",
    "    print(\"좋아요 합격입니다!\")\n",
    "else:\n",
    "    print(\"다음에 더 잘해봐요!\")"
   ]
  },
  {
   "cell_type": "code",
   "execution_count": 28,
   "id": "c6e46d21-f32f-482a-a17e-b74e55c2e6fd",
   "metadata": {},
   "outputs": [
    {
     "name": "stdout",
     "output_type": "stream",
     "text": [
      "음수입니다!\n"
     ]
    }
   ],
   "source": [
    "# 입력한 숫자의 양수, 음수 판단\n",
    "score = -55\n",
    "if score > 0:\n",
    "    print(\"양수입니다!\")\n",
    "elif score <0:\n",
    "    print(\"음수입니다!\")\n",
    "else:\n",
    "    print(\"0 입니다!\")"
   ]
  },
  {
   "cell_type": "code",
   "execution_count": 32,
   "id": "9e8a6379-a632-48c7-ac7d-74ff33a56125",
   "metadata": {},
   "outputs": [
    {
     "name": "stdin",
     "output_type": "stream",
     "text": [
      "숫자를 입력하세요 5\n"
     ]
    },
    {
     "name": "stdout",
     "output_type": "stream",
     "text": [
      "양수입니다\n"
     ]
    }
   ],
   "source": [
    "# 입력한 숫자의 양수, 음수 판단\n",
    "num=int(input(\"숫자를 입력하세요\"))\n",
    "if num > 0:\n",
    "     print(\"양수입니다\")\n",
    "elif num < 0:\n",
    "     print(\"음수입니다\")\n",
    "else:\n",
    "     print(\"0입니다\")\n",
    "     "
   ]
  },
  {
   "cell_type": "code",
   "execution_count": 42,
   "id": "dabc7a19-565f-4d3e-92c7-3ea07db0af54",
   "metadata": {},
   "outputs": [
    {
     "name": "stdin",
     "output_type": "stream",
     "text": [
      "숫자를 입력하세요 1\n"
     ]
    },
    {
     "name": "stdout",
     "output_type": "stream",
     "text": [
      "홀수입니다\n"
     ]
    }
   ],
   "source": [
    "# 입력한 숫자의 짝수, 홀수 판단\n",
    "num=int(input(\"숫자를 입력하세요\"))\n",
    "if num%2==0:\n",
    "     print(\"짝수입니다\")\n",
    "elif num%2!=0:\n",
    "     print(\"홀수입니다\")     "
   ]
  },
  {
   "cell_type": "code",
   "execution_count": 17,
   "id": "c2af36b5-b545-4b8d-aa49-e5f4f19a5064",
   "metadata": {},
   "outputs": [
    {
     "name": "stdin",
     "output_type": "stream",
     "text": [
      "숫자를 입력하세요 2\n"
     ]
    }
   ],
   "source": [
    "num=int(input(\"숫자를 입력하세요\"))\n",
    "if num != 1 and num != 2 and num != 3:\n",
    "    print(\"잘못 입력된 값입니다\")"
   ]
  },
  {
   "cell_type": "code",
   "execution_count": 19,
   "id": "a6904144-80c8-45f2-9a05-0681913d9886",
   "metadata": {},
   "outputs": [
    {
     "name": "stdin",
     "output_type": "stream",
     "text": [
      "숫자를 입력하세요 6\n"
     ]
    },
    {
     "name": "stdout",
     "output_type": "stream",
     "text": [
      "Flase\n"
     ]
    }
   ],
   "source": [
    "num=int(input(\"숫자를 입력하세요\"))\n",
    "if num == 1 or num == 2 or num== 3:\n",
    "    print(\"True\")\n",
    "else:\n",
    "    print(\"Flase\")\n",
    "\n",
    "#and 대신 or을 쓰면 세 개 중 하나만 맞아도 괜찮. 그러나 and는 세개 다 맞아야 함."
   ]
  },
  {
   "cell_type": "code",
   "execution_count": 29,
   "id": "842be9d1-a0cc-464b-9a35-a42754e29a55",
   "metadata": {},
   "outputs": [
    {
     "name": "stdin",
     "output_type": "stream",
     "text": [
      " 3 1\n"
     ]
    }
   ],
   "source": [
    "a,b=map(int, input().split())\n",
    "#쪼개기 위해 split 쓰고 공백으로 쪼개기 위해 ()안에 아무것도 안씀\n",
    "#실수나 문자로 바꾸려면 int를 바꾸면 된다. "
   ]
  },
  {
   "cell_type": "code",
   "execution_count": 30,
   "id": "1116d502-d74b-47a2-af82-19bac455ce99",
   "metadata": {},
   "outputs": [
    {
     "data": {
      "text/plain": [
       "3"
      ]
     },
     "execution_count": 30,
     "metadata": {},
     "output_type": "execute_result"
    }
   ],
   "source": [
    "a"
   ]
  },
  {
   "cell_type": "code",
   "execution_count": 31,
   "id": "147fa1f3-4aa7-4d3a-854a-5b8f3ae6939b",
   "metadata": {},
   "outputs": [
    {
     "data": {
      "text/plain": [
       "1"
      ]
     },
     "execution_count": 31,
     "metadata": {},
     "output_type": "execute_result"
    }
   ],
   "source": [
    "b"
   ]
  },
  {
   "cell_type": "code",
   "execution_count": 60,
   "id": "0c443d5f-e57d-4189-a604-ebad5f77be07",
   "metadata": {},
   "outputs": [
    {
     "name": "stdin",
     "output_type": "stream",
     "text": [
      " 4 1\n"
     ]
    },
    {
     "name": "stdout",
     "output_type": "stream",
     "text": [
      "잘못 입력된 값입니다\n"
     ]
    }
   ],
   "source": [
    "a,b=map(int, input().split())\n",
    "if a > 3 or b > 3 :\n",
    "    print(\"잘못 입력된 값입니다\")\n",
    "else:\n",
    "    if a==b:\n",
    "        print(\"무승부\")\n",
    "    elif (a == 1 and b == 3) or (a == 2 and b == 1) or (a == 3 and b == 2):\n",
    "        print(\"A승B패\")\n",
    "    else:\n",
    "        print(\"B승A패\")\n",
    "        "
   ]
  },
  {
   "cell_type": "code",
   "execution_count": 61,
   "id": "3ac46549-f448-4fcd-bab9-339f593ebfdd",
   "metadata": {},
   "outputs": [
    {
     "name": "stdin",
     "output_type": "stream",
     "text": [
      " 5 1\n"
     ]
    },
    {
     "name": "stdout",
     "output_type": "stream",
     "text": [
      "잘못 입력된 값입니다\n"
     ]
    }
   ],
   "source": [
    "a,b=map(int, input().split())\n",
    "\n",
    "if a > 3 or b > 3 :\n",
    "    print(\"잘못 입력된 값입니다\")\n",
    "elif a == b:\n",
    "    print(\"무승부\")\n",
    "elif (a == 1 and b == 3) or (a == 2 and b == 1) or (a == 3 and b == 2):\n",
    "    print(\"A승B패\")\n",
    "else:\n",
    "    print(\"B승A패\")"
   ]
  }
 ],
 "metadata": {
  "kernelspec": {
   "display_name": "Python 3 (ipykernel)",
   "language": "python",
   "name": "python3"
  },
  "language_info": {
   "codemirror_mode": {
    "name": "ipython",
    "version": 3
   },
   "file_extension": ".py",
   "mimetype": "text/x-python",
   "name": "python",
   "nbconvert_exporter": "python",
   "pygments_lexer": "ipython3",
   "version": "3.12.6"
  }
 },
 "nbformat": 4,
 "nbformat_minor": 5
}
