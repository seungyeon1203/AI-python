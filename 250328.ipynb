{
  "nbformat": 4,
  "nbformat_minor": 0,
  "metadata": {
    "colab": {
      "provenance": [],
      "authorship_tag": "ABX9TyOK8y+SXp7SrsELX1xqTh3h",
      "include_colab_link": true
    },
    "kernelspec": {
      "name": "python3",
      "display_name": "Python 3"
    },
    "language_info": {
      "name": "python"
    }
  },
  "cells": [
    {
      "cell_type": "markdown",
      "metadata": {
        "id": "view-in-github",
        "colab_type": "text"
      },
      "source": [
        "<a href=\"https://colab.research.google.com/github/seungyeon1203/AI-python/blob/main/250328.ipynb\" target=\"_parent\"><img src=\"https://colab.research.google.com/assets/colab-badge.svg\" alt=\"Open In Colab\"/></a>"
      ]
    },
    {
      "cell_type": "code",
      "execution_count": 95,
      "metadata": {
        "colab": {
          "base_uri": "https://localhost:8080/"
        },
        "id": "PqYzckdnScch",
        "outputId": "7ed20c95-2e5c-4b78-f850-c7a6f8b92463"
      },
      "outputs": [
        {
          "output_type": "stream",
          "name": "stdout",
          "text": [
            "첫 번째 정수를 입력하세요: 10\n",
            "두 번째 정수를 입력하세요: 5\n",
            "10은(는) 5보다 큽니다.\n"
          ]
        }
      ],
      "source": [
        "num1_str = input(\"첫 번째 정수를 입력하세요: \")\n",
        "num2_str = input(\"두 번째 정수를 입력하세요: \")\n",
        "try:\n",
        "  num1 = int(num1_str)\n",
        "  num2 = int(num2_str)\n",
        "  if num1 > num2:\n",
        "    print(f\"{num1}은(는) {num2}보다 큽니다.\") #첫 번째 수가 두 번째 수보다 큰 경우를 if 문으로 확인\n",
        "  elif num1 < num2:\n",
        "    print(f\"{num1}은(는) {num2}보다 작습니다.\")\n",
        "  else:\n",
        "    print(f\"{num1}과(와) {num2}은(는) 같습니다.\")\n",
        "except ValueError:\n",
        "  print(\"유효한 정수를 입력하세요.\")"
      ]
    },
    {
      "cell_type": "code",
      "source": [
        "num1_str = input(\"첫 번째 정수를 입력하세요: \")\n",
        "num2_str = input(\"두 번째 정수를 입력하세요: \")\n",
        "num1 = int(num1_str)\n",
        "num2 = int(num2_str)\n",
        "if num1 > num2:\n",
        "  print(f\"{num1}은(는) {num2}보다 큽니다.\")\n",
        "elif num1 < num2:\n",
        "  print(f\"{num1}은(는) {num2}보다 작습니다.\")\n",
        "else:\n",
        "  print(f\"{num1}과(와) {num2}은(는) 같습니다.\")\n",
        "#try-except문 없이 if문 만으로 코딩"
      ],
      "metadata": {
        "colab": {
          "base_uri": "https://localhost:8080/"
        },
        "id": "UmjSdN0uV4YZ",
        "outputId": "3bdcd748-5439-4244-801f-675475be6a4c"
      },
      "execution_count": 7,
      "outputs": [
        {
          "output_type": "stream",
          "name": "stdout",
          "text": [
            "첫 번째 정수를 입력하세요: 9\n",
            "두 번째 정수를 입력하세요: 12\n",
            "9은(는) 12보다 작습니다.\n"
          ]
        }
      ]
    },
    {
      "cell_type": "code",
      "source": [
        "num1_str = input(\"첫 번째 정수를 입력하세요: \")\n",
        "num1 = int(num1_str)\n",
        "print(f\"첫 번째 수: {num1}\")\n",
        "num2_str = input(\"두 번째 정수를 입력하세요: \")\n",
        "num2 = int(num2_str)\n",
        "print(f\"두 번째 수: {num2}\")\n",
        "num3_str = input(\"세 번째 정수를 입력하세요: \")\n",
        "num3 = int(num3_str)\n",
        "print(f\"세 번째 수: {num3}\")\n",
        "\n",
        "max_num = num1\n",
        "if num2 > max_num:\n",
        "  print(f\"두 번째 수 {num2}가 현재 최대값 {max_num}보다 큽니다. 최대값을 업데이트합니다.\")\n",
        "  max_num = num2\n",
        "else : print(f\"두 번째 수 {num2}는 현재 최대값 {max_num}보다 크지 않습니다.\")\n",
        "if num3 > max_num:\n",
        "    print(f\"세 번째 수 {num3}가 현재 최대값 {max_num}보다 큽니다. 최대값을 업데이트합니다.\")\n",
        "    max_num = num3\n",
        "else:\n",
        "  print(f\"세 번째 수 {num3}는 현재 최대값 {max_num}보다 크지 않습니다.\")\n",
        "  print(f\"\\n입력하신 세 수 {num1}, {num2}, {num3} 중에서 가장 큰 수는 {max_num}입니다.\")"
      ],
      "metadata": {
        "colab": {
          "base_uri": "https://localhost:8080/"
        },
        "id": "EoM-XDE1WkDh",
        "outputId": "b5fdf51e-febb-4632-ec65-6122821dba5c"
      },
      "execution_count": 13,
      "outputs": [
        {
          "output_type": "stream",
          "name": "stdout",
          "text": [
            "첫 번째 정수를 입력하세요: 8\n",
            "첫 번째 수: 8\n",
            "두 번째 정수를 입력하세요: 98\n",
            "두 번째 수: 98\n",
            "세 번째 정수를 입력하세요: 96\n",
            "세 번째 수: 96\n",
            "두 번째 수 98가 현재 최대값 8보다 큽니다. 최대값을 업데이트합니다.\n",
            "세 번째 수 96는 현재 최대값 98보다 크지 않습니다.\n",
            "\n",
            "입력하신 세 수 8, 98, 96 중에서 가장 큰 수는 98입니다.\n"
          ]
        }
      ]
    },
    {
      "cell_type": "code",
      "source": [
        "num1_str = input(\"첫 번째 정수를 입력하세요: \")\n",
        "num1 = int(num1_str)\n",
        "num2_str = input(\"두 번째 정수를 입력하세요: \")\n",
        "num2 = int(num2_str)\n",
        "num3_str = input(\"세 번째 정수를 입력하세요: \")\n",
        "num3 = int(num3_str)\n",
        "\n",
        "max_num = num1\n",
        "if num2 > max_num:\n",
        "  print(f\"두 번째 수 {num2}가 현재 최대값 {max_num}보다 큽니다. 최대값을 업데이트합니다.\")\n",
        "  max_num = num2\n",
        "else : print(f\"두 번째 수 {num2}는 현재 최대값 {max_num}보다 크지 않습니다.\")\n",
        "if num3 > max_num:\n",
        "    print(f\"세 번째 수 {num3}가 현재 최대값 {max_num}보다 큽니다. 최대값을 업데이트합니다.\")\n",
        "    max_num = num3\n",
        "else:\n",
        "  print(f\"세 번째 수 {num3}는 현재 최대값 {max_num}보다 크지 않습니다.\")\n",
        "  print(f\"\\n입력하신 세 수 {num1}, {num2}, {num3} 중에서 가장 큰 수는 {max_num}입니다.\")"
      ],
      "metadata": {
        "colab": {
          "base_uri": "https://localhost:8080/"
        },
        "id": "mHVKQZoiacZQ",
        "outputId": "5bb06572-9228-49b6-e71c-ba5b10f0e7c8"
      },
      "execution_count": 16,
      "outputs": [
        {
          "output_type": "stream",
          "name": "stdout",
          "text": [
            "첫 번째 정수를 입력하세요: 954\n",
            "두 번째 정수를 입력하세요: 451011\n",
            "세 번째 정수를 입력하세요: 100\n",
            "두 번째 수 451011가 현재 최대값 954보다 큽니다. 최대값을 업데이트합니다.\n",
            "세 번째 수 100는 현재 최대값 451011보다 크지 않습니다.\n",
            "\n",
            "입력하신 세 수 954, 451011, 100 중에서 가장 큰 수는 451011입니다.\n"
          ]
        }
      ]
    },
    {
      "cell_type": "code",
      "source": [
        "num1 = int(input(\"첫 번째 정수를 입력하세요: \"))\n",
        "num2 = int(input(\"두 번째 정수를 입력하세요: \"))\n",
        "num3 = int(input(\"세 번째 정수를 입력하세요: \"))\n",
        "\n",
        "max_num = num1\n",
        "if num2 > max_num:\n",
        "  max_num = num2\n",
        "if num3 > max_num:\n",
        "  max_num = num3\n",
        "print(f\"\\n입력하신 세 수 {num1}, {num2}, {num3} 중에서 가장 큰 수는 {max_num}입니다.\")"
      ],
      "metadata": {
        "colab": {
          "base_uri": "https://localhost:8080/"
        },
        "id": "1VXnqwVia2zx",
        "outputId": "7ea51c20-400e-4658-8bc1-a75a16a1a881"
      },
      "execution_count": 30,
      "outputs": [
        {
          "output_type": "stream",
          "name": "stdout",
          "text": [
            "첫 번째 정수를 입력하세요: 104\n",
            "두 번째 정수를 입력하세요: 89\n",
            "세 번째 정수를 입력하세요: 635\n",
            "\n",
            "입력하신 세 수 104, 89, 635 중에서 가장 큰 수는 635입니다.\n"
          ]
        }
      ]
    },
    {
      "cell_type": "code",
      "source": [
        "score = int(input(\"시험 점수 (0~100)를 입력하세요: \"))\n",
        "if 0 <= score <= 100:\n",
        "  if score >= 90:\n",
        "    grade = 'A'\n",
        "  elif score >= 80:\n",
        "    grade = 'B'\n",
        "  elif score >= 70:\n",
        "    grade = 'C'\n",
        "  elif score >= 60:\n",
        "    grade = 'D'\n",
        "  else:\n",
        "    grade = 'F'\n",
        "  print(f\"당신의 학점은 {grade}입니다.\")\n",
        "else:\n",
        "  print(\"점수는 0부터 100사이의 값이여야 합니다ㅗ\")"
      ],
      "metadata": {
        "colab": {
          "base_uri": "https://localhost:8080/"
        },
        "id": "4Sjzu3UrcMDp",
        "outputId": "608254b7-5e45-4925-bb96-c3b8f31a524e"
      },
      "execution_count": 44,
      "outputs": [
        {
          "output_type": "stream",
          "name": "stdout",
          "text": [
            "시험 점수 (0~100)를 입력하세요: 989\n",
            "점수는 0부터 100사이의 값이여야 합니다\n"
          ]
        }
      ]
    },
    {
      "cell_type": "code",
      "source": [
        "year = int(input(\"연도를 입력하세요: \"))\n",
        "if (year % 4 == 0 and year % 100 != 0) or (year % 400 == 0):\n",
        "  print(f\"{year}년은 윤년입니다.\")\n",
        "else:\n",
        "  print(f\"{year}년은 윤년이 아닙니다.\")"
      ],
      "metadata": {
        "colab": {
          "base_uri": "https://localhost:8080/"
        },
        "id": "Wjch1r4Mt6kX",
        "outputId": "a4e5b5a7-04a5-4835-e1ed-f044c9020566"
      },
      "execution_count": 92,
      "outputs": [
        {
          "output_type": "stream",
          "name": "stdout",
          "text": [
            "연도를 입력하세요: 2222\n",
            "2222년은 윤년이 아닙니다.\n"
          ]
        }
      ]
    },
    {
      "cell_type": "code",
      "source": [
        "year = int(input())\n",
        "if (year % 4 == 0 and year % 100 != 0) or (year % 400 == 0):\n",
        "  print(\"윤년\")\n",
        "else:\n",
        "  print(\"평년\")"
      ],
      "metadata": {
        "colab": {
          "base_uri": "https://localhost:8080/"
        },
        "id": "YmuFtV16hu74",
        "outputId": "a11432bd-a2cb-42d3-8791-577926adbf5a"
      },
      "execution_count": 51,
      "outputs": [
        {
          "output_type": "stream",
          "name": "stdout",
          "text": [
            "2025\n",
            "평년\n"
          ]
        }
      ]
    },
    {
      "cell_type": "code",
      "source": [
        "for i in range(5): # 0~4까지 반복, 0부터 4까지라 range가 5\n",
        " print(\"반복!\", i+1)"
      ],
      "metadata": {
        "colab": {
          "base_uri": "https://localhost:8080/"
        },
        "id": "-w6264a7lQHg",
        "outputId": "7377da21-2b3f-4d25-97a0-e62f2f476201"
      },
      "execution_count": 54,
      "outputs": [
        {
          "output_type": "stream",
          "name": "stdout",
          "text": [
            "반복! 1\n",
            "반복! 2\n",
            "반복! 3\n",
            "반복! 4\n",
            "반복! 5\n"
          ]
        }
      ]
    },
    {
      "cell_type": "code",
      "source": [
        "for i in range(1,10,2):\n",
        " print(\"반복!\", i)"
      ],
      "metadata": {
        "colab": {
          "base_uri": "https://localhost:8080/"
        },
        "id": "uHCbo8nXmyyg",
        "outputId": "071b833f-dd94-4a40-a3c9-20ddd79d50a3"
      },
      "execution_count": 56,
      "outputs": [
        {
          "output_type": "stream",
          "name": "stdout",
          "text": [
            "반복! 1\n",
            "반복! 3\n",
            "반복! 5\n",
            "반복! 7\n",
            "반복! 9\n"
          ]
        }
      ]
    },
    {
      "cell_type": "code",
      "source": [
        "for i in [1,2,3,4,5]:\n",
        " print(\"반복!\", i)"
      ],
      "metadata": {
        "colab": {
          "base_uri": "https://localhost:8080/"
        },
        "id": "R34lhFFlm9_n",
        "outputId": "0660e258-133f-4df8-eb57-fbd643030984"
      },
      "execution_count": 57,
      "outputs": [
        {
          "output_type": "stream",
          "name": "stdout",
          "text": [
            "반복! 1\n",
            "반복! 2\n",
            "반복! 3\n",
            "반복! 4\n",
            "반복! 5\n"
          ]
        }
      ]
    },
    {
      "cell_type": "code",
      "source": [
        "count = 0\n",
        "while count <3:\n",
        "  print(\"반복중:\", count)\n",
        "  count+=1 #count = count+1"
      ],
      "metadata": {
        "colab": {
          "base_uri": "https://localhost:8080/"
        },
        "id": "jQtqUB8ynzXX",
        "outputId": "e02f5d52-fd9e-431d-df54-b5661c786774"
      },
      "execution_count": 58,
      "outputs": [
        {
          "output_type": "stream",
          "name": "stdout",
          "text": [
            "반복중: 0\n",
            "반복중: 1\n",
            "반복중: 2\n"
          ]
        }
      ]
    },
    {
      "cell_type": "code",
      "source": [
        "n = int(input(\"양의 정수 N을 입력하세요: \"))\n",
        "try:\n",
        "  if n <= 0:\n",
        "    print(\"N은 양의 정수여야 합니다.\")\n",
        "  else:\n",
        "      total = 0\n",
        "      for i in range(1, n + 1):\n",
        "        total += i\n",
        "      print(f\"1부터 {n}까지의 합은: {total} 입니다.\")\n",
        "except ValueError:\n",
        "          print(\"유효한 정수를 입력하세요.\")"
      ],
      "metadata": {
        "colab": {
          "base_uri": "https://localhost:8080/"
        },
        "id": "4H5PGBXppIkA",
        "outputId": "7c57b16a-657e-44b7-f871-61743386f444"
      },
      "execution_count": 68,
      "outputs": [
        {
          "output_type": "stream",
          "name": "stdout",
          "text": [
            "양의 정수 N을 입력하세요: 100\n",
            "1부터 100까지의 합은: 5050 입니다.\n"
          ]
        }
      ]
    },
    {
      "cell_type": "code",
      "source": [
        "n = int(input(\"양의 정수 N을 입력하세요: \"))\n",
        "total = 0\n",
        "for i in range(1, n + 1):\n",
        "  total += i\n",
        "print(f\"1부터 {n}까지의 합은: {total} 입니다.\") #들여쓰기 중요"
      ],
      "metadata": {
        "colab": {
          "base_uri": "https://localhost:8080/"
        },
        "id": "mA79vMnWqs-_",
        "outputId": "18cf1604-4c22-46eb-85f3-220a03d2e692"
      },
      "execution_count": 78,
      "outputs": [
        {
          "output_type": "stream",
          "name": "stdout",
          "text": [
            "양의 정수 N을 입력하세요: 20\n",
            "1부터 20까지의 합은: 210 입니다.\n"
          ]
        }
      ]
    },
    {
      "cell_type": "code",
      "source": [
        "count = 0\n",
        "print(\"0부터 9까지 출력:\")\n",
        "while count < 10:\n",
        "  print(count)\n",
        "  count += 1\n",
        "print(\"while 루프 종료\")\n",
        "#조건이 들어가야 하면 while문"
      ],
      "metadata": {
        "colab": {
          "base_uri": "https://localhost:8080/"
        },
        "id": "Tk9kqVaAsBMP",
        "outputId": "94d8da0b-575f-45d1-de68-8fd969c1af66"
      },
      "execution_count": 80,
      "outputs": [
        {
          "output_type": "stream",
          "name": "stdout",
          "text": [
            "0부터 9까지 출력:\n",
            "0\n",
            "1\n",
            "2\n",
            "3\n",
            "4\n",
            "5\n",
            "6\n",
            "7\n",
            "8\n",
            "9\n",
            "while 루프 종료\n"
          ]
        }
      ]
    },
    {
      "cell_type": "code",
      "source": [
        "print(\"0부터 9까지 출력:\")\n",
        "for i in range(10):\n",
        "  print(i)\n",
        "print(\"for 루프 종료\")\n",
        "#조건없이 반복만 들어가야 하면 for문"
      ],
      "metadata": {
        "colab": {
          "base_uri": "https://localhost:8080/"
        },
        "id": "YsjVIH4Nsh03",
        "outputId": "3b70ddcd-fe47-4efd-8c76-787b823db96a"
      },
      "execution_count": 90,
      "outputs": [
        {
          "output_type": "stream",
          "name": "stdout",
          "text": [
            "0부터 9까지 출력:\n",
            "0\n",
            "1\n",
            "2\n",
            "3\n",
            "4\n",
            "5\n",
            "6\n",
            "7\n",
            "8\n",
            "9\n",
            "for 루프 종료\n"
          ]
        }
      ]
    }
  ]
}