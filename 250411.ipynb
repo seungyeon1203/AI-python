{
 "cells": [
  {
   "cell_type": "code",
   "execution_count": 22,
   "id": "1bdc2de0-c5e7-4333-adbb-ce6d5deaa659",
   "metadata": {},
   "outputs": [
    {
     "name": "stdin",
     "output_type": "stream",
     "text": [
      "주민등록번호를 입력하세요: 0212034111111\n"
     ]
    },
    {
     "name": "stdout",
     "output_type": "stream",
     "text": [
      "여자입니다\n"
     ]
    }
   ],
   "source": [
    "id=input(\"주민등록번호를 입력하세요:\")\n",
    "id = id.replace(\"-\", \"\")\n",
    "if id[6] == '1' or id[6] == '3':\n",
    "    print(\"남자입니다\")\n",
    "else: id[6] == '2' or id[6] == '4'\n",
    "print(\"여자입니다\")"
   ]
  },
  {
   "cell_type": "code",
   "execution_count": 16,
   "id": "1edafb7d-ff8c-4a86-b75b-4f4cc410c64a",
   "metadata": {},
   "outputs": [
    {
     "name": "stdin",
     "output_type": "stream",
     "text": [
      "문자열: aba\n"
     ]
    },
    {
     "name": "stdout",
     "output_type": "stream",
     "text": [
      "회문\n"
     ]
    }
   ],
   "source": [
    "#회문 판별하기\n",
    "s1 = input('문자열:')\n",
    "s2=''\n",
    "for i in range(len(s1)-1, -1, -1):\n",
    "    s2 =s2+s1[i]\n",
    "if s1==s2:\n",
    "    print('회문')\n",
    "else:\n",
    "    print('회문아님')"
   ]
  },
  {
   "cell_type": "code",
   "execution_count": 28,
   "id": "dd936030-a0ec-44a4-8c8e-16f264f25ecf",
   "metadata": {},
   "outputs": [
    {
     "name": "stdout",
     "output_type": "stream",
     "text": [
      "['KALST', '제주대', '홍익대']\n"
     ]
    }
   ],
   "source": [
    "s = 'KALST,제주대,홍익대'\n",
    "print(s.split(','))"
   ]
  },
  {
   "cell_type": "code",
   "execution_count": 29,
   "id": "a83fa7cd-bcf5-4850-be38-c0ac8bc9dd16",
   "metadata": {},
   "outputs": [
    {
     "name": "stdout",
     "output_type": "stream",
     "text": [
      "KALST,제주대,홍익대\n"
     ]
    }
   ],
   "source": [
    "l = ['KALST','제주대','홍익대']\n",
    "print(','.join(l))"
   ]
  },
  {
   "cell_type": "code",
   "execution_count": 49,
   "id": "00fffb18-ae6d-43b8-b1c7-23884438e7ef",
   "metadata": {},
   "outputs": [
    {
     "name": "stdin",
     "output_type": "stream",
     "text": [
      "비밀번호를 입력하세요:  sy123\n"
     ]
    },
    {
     "name": "stdout",
     "output_type": "stream",
     "text": [
      "비밀번호 통과!\n"
     ]
    }
   ],
   "source": [
    "pw = input(\"비밀번호를 입력하세요: \")\n",
    "\n",
    "has_digit = False\n",
    "has_alpha = False\n",
    "\n",
    "for a in pw:\n",
    "    if a.isdigit():\n",
    "        has_digit = True\n",
    "    elif a.isalpha():\n",
    "        has_alpha = True\n",
    "\n",
    "if has_digit and has_alpha:\n",
    "    print(\"비밀번호 통과!\")\n",
    "else:\n",
    "    print(\"비밀번호는 숫자와 문자를 모두 포함해야 합니다.\")"
   ]
  },
  {
   "cell_type": "code",
   "execution_count": null,
   "id": "4b70b0a9-c96f-4527-8714-f2606f364ef3",
   "metadata": {},
   "outputs": [],
   "source": [
    "#파이썬에서 딕셔너리는 중괄호 {}를 사용하여 만든다\n",
    "\n",
    "# 빈 딕셔너리 만들기\n",
    "빈_딕셔너리 = {}\n",
    "또다른_빈_딕셔너리 = dict()\n",
    "\n",
    "# 학생 정보 딕셔너리\n",
    "학생 = {\n",
    "    \"이름\": \"김철수\",\n",
    "    \"나이\": 20,\n",
    "    \"학과\": \"컴퓨터공학\",\n",
    "    \"학점\": 3.5\n",
    "}\n",
    "\n",
    "# dict() 함수로 만들기\n",
    "또다른_학생 = dict(이름=\"이영희\", 나이=22, 학과=\"경영학\", 학점=4.0)"
   ]
  },
  {
   "cell_type": "code",
   "execution_count": 50,
   "id": "23f9f09b-d6f9-4437-83e8-c6ada6f356c2",
   "metadata": {},
   "outputs": [],
   "source": [
    "학생 = {\"이름\": \"김철수\", \"나이\": 20, \"학과\": \"컴퓨터공학\"}\n",
    "\n",
    "# 값 변경하기\n",
    "학생[\"나이\"] = 21\n",
    "\n",
    "# 새로운 키-값 쌍 추가하기\n",
    "학생[\"학점\"] = 3.5\n",
    "\n",
    "# 여러 키-값 쌍 한번에 추가/수정하기\n",
    "학생.update({\"나이\": 22, \"전화번호\": \"010-1234-5678\", \"주소\": \"서울시\"})\n",
    "#나이는 숫자로 들어가있음"
   ]
  },
  {
   "cell_type": "code",
   "execution_count": null,
   "id": "e93d46a0-4f5a-465f-bcd0-2f96fda56785",
   "metadata": {},
   "outputs": [],
   "source": [
    "#단어빈도수세기\n",
    "문장 = \"나는 파이썬을 공부한다 파이썬은 재미있다 나는 코딩을 좋아한다\"\n",
    "단어들 = 문장.split()\n",
    "빈도수 = {}\n",
    "\n",
    "for 단어 in 단어들:\n",
    "    if 단어 in 빈도수:\n",
    "        빈도수[단어] += 1\n",
    "    else:\n",
    "        빈도수[단어] = 1\n",
    "\n",
    "print(빈도수)\n",
    "# {'나는': 2, '파이썬을': 1, '공부한다': 1, '파이썬은': 1, '재미있다': 1, '코딩을': 1, '좋아한다': 1}"
   ]
  }
 ],
 "metadata": {
  "kernelspec": {
   "display_name": "Python 3 (ipykernel)",
   "language": "python",
   "name": "python3"
  },
  "language_info": {
   "codemirror_mode": {
    "name": "ipython",
    "version": 3
   },
   "file_extension": ".py",
   "mimetype": "text/x-python",
   "name": "python",
   "nbconvert_exporter": "python",
   "pygments_lexer": "ipython3",
   "version": "3.12.6"
  }
 },
 "nbformat": 4,
 "nbformat_minor": 5
}
