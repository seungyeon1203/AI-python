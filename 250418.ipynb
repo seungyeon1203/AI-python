{
  "nbformat": 4,
  "nbformat_minor": 0,
  "metadata": {
    "colab": {
      "provenance": [],
      "authorship_tag": "ABX9TyMzPupXVNlzkVa2+XK3AfAu",
      "include_colab_link": true
    },
    "kernelspec": {
      "name": "python3",
      "display_name": "Python 3"
    },
    "language_info": {
      "name": "python"
    }
  },
  "cells": [
    {
      "cell_type": "markdown",
      "metadata": {
        "id": "view-in-github",
        "colab_type": "text"
      },
      "source": [
        "<a href=\"https://colab.research.google.com/github/seungyeon1203/AI-python/blob/main/250418.ipynb\" target=\"_parent\"><img src=\"https://colab.research.google.com/assets/colab-badge.svg\" alt=\"Open In Colab\"/></a>"
      ]
    },
    {
      "cell_type": "code",
      "execution_count": 2,
      "metadata": {
        "colab": {
          "base_uri": "https://localhost:8080/"
        },
        "id": "RdxAfRgsezx5",
        "outputId": "0f38711b-c9ad-405f-ed8e-18bc09b3ddeb"
      },
      "outputs": [
        {
          "output_type": "stream",
          "name": "stdout",
          "text": [
            "학생 정보 딕셔너리: {'name': '김민수', 'age': 20, 'major': '컴퓨터공학'}\n",
            "이름: 김민수\n",
            "나이: 20\n",
            "전공: 컴퓨터공학\n"
          ]
        }
      ],
      "source": [
        "#문제1 딕셔너리 생성 및 요소 접근\n",
        "student = {'name': '김민수','age': 20,'major': '컴퓨터공학'}\n",
        "print(f\"학생 정보 딕셔너리: {student}\")\n",
        "name = student['name']\n",
        "print(f\"이름: {name}\")\n",
        "age = student['age']\n",
        "print(f\"나이: {age}\")\n",
        "major = student['major']\n",
        "print(f\"전공: {major}\")"
      ]
    },
    {
      "cell_type": "code",
      "source": [
        "#문제2 딕셔너리 요소 추가 및 삭제\n",
        "student = {'name': '김민수','age': 20,'major': '컴퓨터공학'}\n",
        "print(f\"원래 학생 정보 딕셔너리: {student}\")\n",
        "student['grade'] = 4.0\n",
        "#새로운 키 'grade'와 값 추가\n",
        "print(f\"요소 추가 후 딕셔너리: {student}\")\n",
        "del student['major']\n",
        "#키 'major'와 값 삭제\n",
        "print(f\"요소 삭제 후 딕셔너리: {student}\")"
      ],
      "metadata": {
        "colab": {
          "base_uri": "https://localhost:8080/"
        },
        "id": "ZW_Sz7ZEfKiM",
        "outputId": "b16022ca-f22a-4624-cea5-31526d7988da"
      },
      "execution_count": 3,
      "outputs": [
        {
          "output_type": "stream",
          "name": "stdout",
          "text": [
            "원래 학생 정보 딕셔너리: {'name': '김민수', 'age': 20, 'major': '컴퓨터공학'}\n",
            "요소 추가 후 딕셔너리: {'name': '김민수', 'age': 20, 'major': '컴퓨터공학', 'grade': 4.0}\n",
            "요소 삭제 후 딕셔너리: {'name': '김민수', 'age': 20, 'grade': 4.0}\n"
          ]
        }
      ]
    },
    {
      "cell_type": "code",
      "source": [
        "#문제3 딕셔너리 키와 값 순회하며 출력\n",
        "fruit_prices = {'사과': 1500,'바나나': 800,'딸기': 3000,'오렌지': 1200}\n",
        "print(\"과일 가격 정보:\")\n",
        "for fruit, price in fruit_prices.items():\n",
        "  print(f\"{fruit}: {price}원\")\n",
        "print(\"\\n과일 목록:\")\n",
        "for fruit in fruit_prices.keys():\n",
        "  print(fruit)\n",
        "print(\"\\n가격 목록:\")\n",
        "for price in fruit_prices.values():\n",
        "  print(f\"{price}원\")"
      ],
      "metadata": {
        "colab": {
          "base_uri": "https://localhost:8080/"
        },
        "id": "LCq4JvN_flVr",
        "outputId": "10947407-b5e1-486b-d74e-1e44360813b7"
      },
      "execution_count": 5,
      "outputs": [
        {
          "output_type": "stream",
          "name": "stdout",
          "text": [
            "과일 가격 정보:\n",
            "사과: 1500원\n",
            "바나나: 800원\n",
            "딸기: 3000원\n",
            "오렌지: 1200원\n",
            "\n",
            "과일 목록:\n",
            "사과\n",
            "바나나\n",
            "딸기\n",
            "오렌지\n",
            "\n",
            "가격 목록:\n",
            "1500원\n",
            "800원\n",
            "3000원\n",
            "1200원\n"
          ]
        }
      ]
    },
    {
      "cell_type": "code",
      "source": [
        "#문제4 딕셔너리 요소 값 변경\n",
        "fruit_prices = {'사과': 1500,'바나나': 800,'딸기': 3000,'오렌지': 1200}\n",
        "print(f\"원래 과일 가격 딕셔너리: {fruit_prices}\")\n",
        "fruit_prices['사과'] = 1800\n",
        "#'사과'의 가격을 1800으로 변경\n",
        "print(f\"가격 변경 후 과일 가격 딕셔너리: {fruit_prices}\")"
      ],
      "metadata": {
        "colab": {
          "base_uri": "https://localhost:8080/"
        },
        "id": "3T7jXBG7f2Zr",
        "outputId": "0db1dc00-55be-446a-8848-b9d8499af5c2"
      },
      "execution_count": 6,
      "outputs": [
        {
          "output_type": "stream",
          "name": "stdout",
          "text": [
            "원래 과일 가격 딕셔너리: {'사과': 1500, '바나나': 800, '딸기': 3000, '오렌지': 1200}\n",
            "가격 변경 후 과일 가격 딕셔너리: {'사과': 1800, '바나나': 800, '딸기': 3000, '오렌지': 1200}\n"
          ]
        }
      ]
    },
    {
      "cell_type": "code",
      "source": [
        "# 문제5 두 개의 딕셔너리 합치기\n",
        "dict1 = {'a': 1, 'b': 2, 'c': 3}\n",
        "dict2 = {'b': 4, 'd': 5}\n",
        "print(f\"첫 번째 딕셔너리: {dict1}\")\n",
        "print(f\"두 번째 딕셔너리: {dict2}\")\n",
        "dict1.update(dict2)\n",
        "#dict2의 내용을 dict1에 업데이트 (겹치는 키는 dict2의 값으로 덮어쓰기)\n",
        "print(f\"두 딕셔너리 합치기 (update() 결과): {dict1}\")"
      ],
      "metadata": {
        "colab": {
          "base_uri": "https://localhost:8080/"
        },
        "id": "T0Xqym3wgAdz",
        "outputId": "ad35bc5a-27c7-4755-e457-d481cf63b9d0"
      },
      "execution_count": 7,
      "outputs": [
        {
          "output_type": "stream",
          "name": "stdout",
          "text": [
            "첫 번째 딕셔너리: {'a': 1, 'b': 2, 'c': 3}\n",
            "두 번째 딕셔너리: {'b': 4, 'd': 5}\n",
            "두 딕셔너리 합치기 (update() 결과): {'a': 1, 'b': 4, 'c': 3, 'd': 5}\n"
          ]
        }
      ]
    },
    {
      "cell_type": "markdown",
      "source": [
        "딕셔너리 핵심 요약\n",
        "키-값 쌍의 모음 (중괄호 {}로 표현)\n",
        "키로 값에 접근\n",
        "주요 메서드: get(), update(), pop(), keys(), values(), items()\n",
        "키는 중복 불가하고 불변(immutable) 타입만 가능\n",
        "값은 어떤 데이터 타입도 가능\n",
        "복잡한 데이터 구조(중첩 딕셔너리) 표현 가능\n",
        "\n",
        "pop과 remove 차이점\n",
        "\n",
        "pop()\n",
        "제거 방식: 인덱스를 기반으로 요소를 제거 즉, 리스트에서 제거하려는 요소의 위치를 지정\n",
        "반환값: 제거된 요소를 반환 따라서 제거된 요소를 다른 변수에 저장하거나 추가 작업에 사용\n",
        "인덱스 지정: 인덱스를 지정하지 않으면 기본적으로 리스트의 마지막 요소를 제거하고 반환\n",
        "\n",
        "remove()\n",
        "제거 방식: 값을 기반으로 요소를 제거 즉, 리스트에서 제거하려는 요소의 값을 지정\n",
        "반환값: 값을 반환하지 않음\n",
        "중복 값: 리스트에 같은 값을 가진 요소가 여러 개 있는 경우, remove()는 처음으로 찾은 요소만 제거"
      ],
      "metadata": {
        "id": "iEBM6Niridrz"
      }
    },
    {
      "cell_type": "code",
      "source": [
        "A, B = map(int, input().split())\n",
        "sum = A + B\n",
        "print(sum)"
      ],
      "metadata": {
        "colab": {
          "base_uri": "https://localhost:8080/"
        },
        "id": "4c1TH4t4m_a6",
        "outputId": "49f56589-3594-466b-8be5-3b0c5214f739"
      },
      "execution_count": 9,
      "outputs": [
        {
          "output_type": "stream",
          "name": "stdout",
          "text": [
            "1 2\n",
            "3\n"
          ]
        }
      ]
    },
    {
      "cell_type": "code",
      "source": [
        "cm = float(input())\n",
        "kg = float(input())\n",
        "bmi = kg / ((cm/100)** 2)\n",
        "print(round(bmi, 2))"
      ],
      "metadata": {
        "colab": {
          "base_uri": "https://localhost:8080/"
        },
        "id": "SNRnQBK0oofZ",
        "outputId": "4b87223a-35a5-413d-b86a-d8002193aa3b"
      },
      "execution_count": 20,
      "outputs": [
        {
          "output_type": "stream",
          "name": "stdout",
          "text": [
            "135\n",
            "43.01\n",
            "23.6\n"
          ]
        }
      ]
    }
  ]
}