{
  "nbformat": 4,
  "nbformat_minor": 0,
  "metadata": {
    "colab": {
      "provenance": [],
      "authorship_tag": "ABX9TyN+Lab9HB8I9FV+NrnD9laB",
      "include_colab_link": true
    },
    "kernelspec": {
      "name": "python3",
      "display_name": "Python 3"
    },
    "language_info": {
      "name": "python"
    }
  },
  "cells": [
    {
      "cell_type": "markdown",
      "metadata": {
        "id": "view-in-github",
        "colab_type": "text"
      },
      "source": [
        "<a href=\"https://colab.research.google.com/github/seungyeon1203/AI-python/blob/main/Untitled6.ipynb\" target=\"_parent\"><img src=\"https://colab.research.google.com/assets/colab-badge.svg\" alt=\"Open In Colab\"/></a>"
      ]
    },
    {
      "cell_type": "code",
      "execution_count": 20,
      "metadata": {
        "colab": {
          "base_uri": "https://localhost:8080/"
        },
        "id": "-2VjOT2HXK-F",
        "outputId": "a4357b34-55da-45a7-8ddd-57706487f709"
      },
      "outputs": [
        {
          "output_type": "stream",
          "name": "stdout",
          "text": [
            "온도종류(섭씨 또는 화씨):섭씨\n",
            "섭씨온도:50\n",
            "화씨온도122.0\n"
          ]
        }
      ],
      "source": [
        "kind = input('온도종류(섭씨 또는 화씨):')\n",
        "temp = int(input(kind+'온도:'))\n",
        "\n",
        "if kind == '섭씨':\n",
        "  print(f'화씨온도{temp*9/5+32}')\n",
        "else:\n",
        "  print(f'섭씨온도{(temp-32)*5/9}')"
      ]
    },
    {
      "cell_type": "markdown",
      "source": [
        "변환 지정자는 서식 문자열에서 특정 값을 출력하기 위한 형식을 지정하는 데 사용된다. 변환 지정자는 퍼센트 기호 (%)로 시작하고 변환할 값의 유형을 나타내는 문자로 끝난다. 예를 들어, %d는 정수 값을 출력하고 %f는 부동 소수점 값을 출력한다.\n",
        "예시\n",
        "%d: 정수\n",
        "%f: 부동 소수점\n",
        "(%10.2f는 전체너비 10, 소수점 둘재자리까지\n",
        "%s: 문자열\n",
        "%c: 문자\n",
        "%x: 16진수\n",
        "%o: 8진수"
      ],
      "metadata": {
        "id": "vfx2HUsLaFtN"
      }
    },
    {
      "cell_type": "code",
      "source": [
        "temp = 60.0\n",
        "print(\"온도: %.2f\"% temp)"
      ],
      "metadata": {
        "colab": {
          "base_uri": "https://localhost:8080/"
        },
        "id": "9B9NFOlzbpe1",
        "outputId": "0df29c63-ba23-49b7-fece-5b098d3197be"
      },
      "execution_count": 21,
      "outputs": [
        {
          "output_type": "stream",
          "name": "stdout",
          "text": [
            "온도: 60.00\n"
          ]
        }
      ]
    },
    {
      "cell_type": "code",
      "source": [
        "import random\n",
        "answer = random.randint(1,100)\n",
        "print(answer)"
      ],
      "metadata": {
        "colab": {
          "base_uri": "https://localhost:8080/"
        },
        "id": "NmEM0cfbc4xk",
        "outputId": "6c226260-fbac-49a0-fd93-f355fe6615e1"
      },
      "execution_count": 26,
      "outputs": [
        {
          "output_type": "stream",
          "name": "stdout",
          "text": [
            "62\n"
          ]
        }
      ]
    },
    {
      "cell_type": "markdown",
      "source": [
        "내장 모듈 외부모듈\n",
        "1. 내장 모듈 (Built-in Modules)\n",
        "파이썬 설치 시 기본적으로 제공되는 모듈\n",
        "별도의 설치 없이 바로 import하여 사용\n",
        "예: math, os, sys, random, datetime 등\n",
        "\n",
        "2. 외부 모듈 (External Modules)\n",
        "파이썬 표준 라이브러리에 포함되지 않은 모듈\n",
        "별도로 설치해야 사용\n",
        "주로 pip 명령어를 사용하여 설치 (예: pip install requests)\n",
        "예: requests, numpy, pandas, tensorflow 등"
      ],
      "metadata": {
        "id": "0NZRsQSEclbk"
      }
    },
    {
      "cell_type": "markdown",
      "source": [
        "random 모듈은 난수 생성과 관련된 함수들을 제공하는 파이썬의 표준 라이브러리 모듈\n",
        "\n",
        "주요 기능:\n",
        "\n",
        "난수 생성: random() 함수를 사용하여 0.0 이상 1.0 미만의 랜덤한 부동 소수점 숫자를 생성\n",
        "정수 난수 생성: randint(a, b) 함수를 사용하여 a 이상 b 이하의 랜덤한 정수를 생성\n",
        "리스트 요소 무작위 선택: choice(list) 함수를 사용하여 리스트에서 무작위로 요소 하나를 선택\n",
        "리스트 섞기: shuffle(list) 함수를 사용하여 리스트의 요소들을 무작위로 섞음\n",
        "랜덤 샘플 추출: sample(population, k) 함수를 사용하여 population에서 k개의 랜덤 샘플을 추출"
      ],
      "metadata": {
        "id": "mkR1LVSxsq-E"
      }
    },
    {
      "cell_type": "code",
      "source": [
        "import random\n",
        "print('1부터 100까지의 수 하나를 정했습니다')\n",
        "print('이숫자를 맞춰보세요')\n",
        "answer = random.randint(1,100)\n",
        "times = 0\n",
        "\n",
        "while True:\n",
        "  user = int(input('1~100 숫자 입력:'))\n",
        "  times += 1\n",
        "  if user == answer:\n",
        "                   break\n",
        "  elif user < answer:\n",
        "    print(f'{user}보다 큽니다')\n",
        "  else:\n",
        "    print(f'{user}보다 작습니다')\n",
        "print(f'정답입니다! {times}안에 맞췄습니다')"
      ],
      "metadata": {
        "colab": {
          "base_uri": "https://localhost:8080/"
        },
        "id": "sBgydzEUeDf8",
        "outputId": "b684f404-7497-4ec7-aa5d-a2ce4670da82"
      },
      "execution_count": 35,
      "outputs": [
        {
          "output_type": "stream",
          "name": "stdout",
          "text": [
            "1부터 100까지의 수 하나를 정했습니다\n",
            "이숫자를 맞춰보세요\n",
            "1~100 숫자 입력:58\n",
            "58보다 작습니다\n",
            "1~100 숫자 입력:55\n",
            "55보다 작습니다\n",
            "1~100 숫자 입력:20\n",
            "정답입니다! 3안에 맞췄습니다\n"
          ]
        }
      ]
    },
    {
      "cell_type": "code",
      "source": [
        "import random\n",
        "number_list = []\n",
        "\n",
        "for i in range(1,7):\n",
        "  num=random.randint(1,45)\n",
        "  number_list.append(num)\n",
        "print(number_list)"
      ],
      "metadata": {
        "colab": {
          "base_uri": "https://localhost:8080/"
        },
        "id": "ZXXff8NKkrct",
        "outputId": "17454554-c1d9-42d7-9806-6347db58f608"
      },
      "execution_count": 38,
      "outputs": [
        {
          "output_type": "stream",
          "name": "stdout",
          "text": [
            "[7, 45, 38, 41, 8, 40]\n"
          ]
        }
      ]
    },
    {
      "cell_type": "markdown",
      "source": [
        "파이썬에서 메소드와 함수는 모두 코드 블록을 실행하는 역할을 하지만, 몇 가지 중요한 차이점이 있다\n",
        "\n",
        "함수 (Function)\n",
        "정의: 특정 작업을 수행하는 독립적인 코드 블록\n",
        "호출: 함수 이름 뒤에 괄호 ()를 붙여 호출\n",
        "예시: print(), len(), sum()\n",
        "\n",
        "메소드 (Method)\n",
        "정의: 특정 객체에 속해 있으며, 해당 객체의 데이터를 조작하거나 특정 작업을 수행하는 코드 블록\n",
        "호출: 객체 이름 뒤에 .을 붙이고 메소드 이름 뒤에 괄호 ()를 붙여 호출\n",
        "예시: 문자열의 upper(), 리스트의 append(), 파일 객체의 read()\n",
        "\n",
        "핵심 차이점\n",
        "소속: 함수는 독립적이지만, 메소드는 객체에 속해 있음\n",
        "호출 방식: 함수는 이름으로 직접 호출하지만, 메소드는 객체를 통해 호출\n",
        "데이터 접근: 메소드는 속해 있는 객체의 데이터에 직접 접근\n",
        "\n",
        "비유\n",
        "함수는 공구 상자에 있는 독립적인 도구와 같습니다. 필요할 때 꺼내서 사용\n",
        "메소드는 특정 기계에 붙어 있는 전용 버튼. 해당 기계를 통해서만 버튼을 누르고 기능을 사용\n",
        "\n",
        "요약\n",
        "함수는 독립적인 코드 블록, 메소드는 객체에 속한 코드 블록\n",
        "메소드는 객체의 데이터를 조작하거나 특정 작업을 수행"
      ],
      "metadata": {
        "id": "ClmELUPpsuET"
      }
    },
    {
      "cell_type": "code",
      "source": [
        "성적 =[85, 92, 78, 90, 87]\n",
        "평균 = sum(성적)/len(성적)\n",
        "print(평균)"
      ],
      "metadata": {
        "colab": {
          "base_uri": "https://localhost:8080/"
        },
        "id": "h30Y5S-fvs50",
        "outputId": "8662f2d0-d5e5-4cbe-f909-09be108d1ad1"
      },
      "execution_count": 44,
      "outputs": [
        {
          "output_type": "stream",
          "name": "stdout",
          "text": [
            "86.4\n"
          ]
        }
      ]
    },
    {
      "cell_type": "code",
      "source": [
        "#제어문을 사용해서 총합과 평균을 구하시오\n",
        "성적 =[85, 92, 78, 90, 87]\n",
        "총합 = 0\n",
        "평균 = 0.0\n",
        "항목수 = 0\n",
        "for 점수 in 성적:\n",
        "    총합 += 점수\n",
        "    항목수+=1\n",
        "평균=총합/항목수\n",
        "print(평균)"
      ],
      "metadata": {
        "colab": {
          "base_uri": "https://localhost:8080/"
        },
        "id": "ZxwJTlvnuTbc",
        "outputId": "c1e6fc03-d47e-4786-a251-ba731b250bc2"
      },
      "execution_count": 45,
      "outputs": [
        {
          "output_type": "stream",
          "name": "stdout",
          "text": [
            "86.4\n"
          ]
        }
      ]
    },
    {
      "cell_type": "code",
      "source": [
        "학생들 = [(\"철수\", 85), (\"영희\", 92), (\"민수\", 65), (\"지영\", 78)]\n",
        "합격자 = []\n",
        "\n",
        "for 학생, 점수 in 학생들:\n",
        "    if 점수 >= 70:\n",
        "        합격자.append(학생)\n",
        "\n",
        "print(합격자)"
      ],
      "metadata": {
        "colab": {
          "base_uri": "https://localhost:8080/"
        },
        "id": "XjzRIjnWwFVd",
        "outputId": "ba2c92d0-4e02-4686-9979-278a93a42d80"
      },
      "execution_count": 47,
      "outputs": [
        {
          "output_type": "stream",
          "name": "stdout",
          "text": [
            "['철수', '영희', '지영']\n"
          ]
        }
      ]
    },
    {
      "cell_type": "code",
      "source": [
        "숫자들 = [1, 2, 2, 3, 4, 4, 5, 5, 5] #리스트는 중복이 가능!\n",
        "중복제거 = list(set(숫자들))\n",
        "print(중복제거)"
      ],
      "metadata": {
        "colab": {
          "base_uri": "https://localhost:8080/"
        },
        "id": "qt3hw0muwbMk",
        "outputId": "98f1774c-1134-4062-ad50-691f3506c45d"
      },
      "execution_count": 50,
      "outputs": [
        {
          "output_type": "stream",
          "name": "stdout",
          "text": [
            "[1, 2, 3, 4, 5]\n"
          ]
        }
      ]
    },
    {
      "cell_type": "code",
      "source": [
        "# 리스트생성 및 요소 접근\n",
        "fruits = [\"사과\", \"바나나\", \"딸기\", \"포도\"]\n",
        "print(f\"과일 리스트: {fruits}\")\n",
        "first_fruit = fruits[0] # 첫 번째 요소는 인덱스 0\n",
        "print(f\"첫 번째 과일: {first_fruit}\")\n",
        "last_fruit = fruits[-1] # 마지막 요소는 인덱스 -1 (리스트 몇개인지 알 필요 없음)\n",
        "print(f\"마지막 과일: {last_fruit}\")"
      ],
      "metadata": {
        "colab": {
          "base_uri": "https://localhost:8080/"
        },
        "id": "boio-vtrxLYc",
        "outputId": "b72f9dbd-3d1b-499f-d52c-8b494d89b1f9"
      },
      "execution_count": 52,
      "outputs": [
        {
          "output_type": "stream",
          "name": "stdout",
          "text": [
            "과일 리스트: ['사과', '바나나', '딸기', '포도']\n",
            "첫 번째 과일: 사과\n",
            "마지막 과일: 포도\n"
          ]
        }
      ]
    },
    {
      "cell_type": "code",
      "source": [
        "# 리스트 요소 추가 및 삭제\n",
        "fruits = [\"사과\", \"바나나\", \"딸기\", \"포도\"]\n",
        "print(f\"원래 과일 리스트: {fruits}\")\n",
        "fruits.append(\"오렌지\")\n",
        "# 리스트 끝에 \"오렌지\" 추가\n",
        "print(f\"요소 추가 후 리스트: {fruits}\")\n",
        "fruits.remove(\"바나나\")\n",
        "# 리스트에서 \"바나나\" 삭제\n",
        "print(f\"요소 삭제 후 리스트: {fruits}\")"
      ],
      "metadata": {
        "colab": {
          "base_uri": "https://localhost:8080/"
        },
        "id": "Fu5s0IvGygYs",
        "outputId": "8981e479-035d-4165-a8e6-3215f184470f"
      },
      "execution_count": 53,
      "outputs": [
        {
          "output_type": "stream",
          "name": "stdout",
          "text": [
            "원래 과일 리스트: ['사과', '바나나', '딸기', '포도']\n",
            "요소 추가 후 리스트: ['사과', '바나나', '딸기', '포도', '오렌지']\n",
            "요소 삭제 후 리스트: ['사과', '딸기', '포도', '오렌지']\n"
          ]
        }
      ]
    },
    {
      "cell_type": "code",
      "source": [
        "# 리스트 요소 순회 출력\n",
        "numbers = [1, 5, 12, 8, 21]\n",
        "print(\"숫자 리스트의 요소:\")\n",
        "for num in numbers:\n",
        "  print(num)"
      ],
      "metadata": {
        "colab": {
          "base_uri": "https://localhost:8080/"
        },
        "id": "0OwVdFjGysD8",
        "outputId": "344a39d7-24ee-434e-a6f6-5b7bc50d9882"
      },
      "execution_count": 57,
      "outputs": [
        {
          "output_type": "stream",
          "name": "stdout",
          "text": [
            "숫자 리스트의 요소:\n",
            "1\n",
            "5\n",
            "12\n",
            "8\n",
            "21\n"
          ]
        }
      ]
    },
    {
      "cell_type": "code",
      "source": [
        "# 리스트 요소 값 변경\n",
        "colors = [\"빨강\", \"초록\", \"파랑\"]\n",
        "print(f\"원래 색깔 리스트: {colors}\")\n",
        "colors[1] = \"노랑\" # 인덱스 1의 \"초록\"을 \"노랑\"으로 변경\n",
        "print(f\"요소 변경 후 색깔 리스트: {colors}\")"
      ],
      "metadata": {
        "colab": {
          "base_uri": "https://localhost:8080/"
        },
        "id": "m938_G17yycc",
        "outputId": "c4a5338d-6c4f-4357-c1fe-c58801e3cd20"
      },
      "execution_count": 55,
      "outputs": [
        {
          "output_type": "stream",
          "name": "stdout",
          "text": [
            "원래 색깔 리스트: ['빨강', '초록', '파랑']\n",
            "요소 변경 후 색깔 리스트: ['빨강', '노랑', '파랑']\n"
          ]
        }
      ]
    },
    {
      "cell_type": "code",
      "source": [
        "# 두 개의 리스트 합치기\n",
        "list1 = [1, 2, 3]\n",
        "list2 = [4, 5, 6]\n",
        "print(f\"첫 번째 리스트: {list1}\")\n",
        "print(f\"두 번째 리스트: {list2}\")\n",
        "# 방법 1: + 연산자 사용\n",
        "combined_list_plus = list1 + list2\n",
        "print(f\"두 리스트 합치기 (+) 결과: {combined_list_plus}\")\n",
        "# 방법 2: extend() 메서드 사용\n",
        "list1.extend(list2)\n",
        "print(f\"첫 번째 리스트에 두 번째 리스트 확장 (extend()): {list1}\")"
      ],
      "metadata": {
        "colab": {
          "base_uri": "https://localhost:8080/"
        },
        "id": "MIPhc1IEy29E",
        "outputId": "5f2001ec-fdc5-4f26-9c06-a67a51f3afaf"
      },
      "execution_count": 56,
      "outputs": [
        {
          "output_type": "stream",
          "name": "stdout",
          "text": [
            "첫 번째 리스트: [1, 2, 3]\n",
            "두 번째 리스트: [4, 5, 6]\n",
            "두 리스트 합치기 (+) 결과: [1, 2, 3, 4, 5, 6]\n",
            "첫 번째 리스트에 두 번째 리스트 확장 (extend()): [1, 2, 3, 4, 5, 6]\n"
          ]
        }
      ]
    }
  ]
}